{
 "cells": [
  {
   "cell_type": "markdown",
   "metadata": {},
   "source": [
    "# PlantCV\n",
    "[PlantCV](https://plantcv.danforthcenter.org/) is an open-source image analysis software package targeted for plant phenotyping. PlantCV is modular and modules are used to build image analysis workflows. Jupyter notebooks like this document are a great way to build and visualize PlantCV workflows. This notebook is a starter notebook that only has the essential code to get started but is meant to be filled out during a class/workshop."
   ]
  },
  {
   "cell_type": "markdown",
   "metadata": {},
   "source": [
    "## Import packages\n",
    "The first block of code starts with an IPython \"magic\" command that configures matplotlib display behavior. We use two matplotlib modes: `inline` simply displays an image/plot; `notebook` displays an interactive panel.\n",
    "\n",
    "Next we import any packages we need, including PlantCV."
   ]
  },
  {
   "cell_type": "code",
   "execution_count": 1,
   "metadata": {},
   "outputs": [],
   "source": [
    "%matplotlib notebook\n",
    "from plantcv import plantcv as pcv"
   ]
  },
  {
   "cell_type": "markdown",
   "metadata": {},
   "source": [
    "## Boilerplate code\n",
    "The following few cells setup some minimal code we need to make a functioning PlantCV environment and print some informational content.\n",
    "\n",
    "1. Print the version of PlantCV.\n",
    "2. Setup a placeholder input handler that will be replaced later with command-line input handling.\n",
    "3. Read the input options.\n",
    "4. Set the PlantCV \"debug\" mode, we want \"plot\" mode for notebooks."
   ]
  },
  {
   "cell_type": "code",
   "execution_count": null,
   "metadata": {},
   "outputs": [],
   "source": [
    "# Print the PlantCV version\n",
    "pcv.__version__"
   ]
  },
  {
   "cell_type": "code",
   "execution_count": null,
   "metadata": {},
   "outputs": [],
   "source": [
    "# Handle input variables\n",
    "# This code was provided to make it easier to convert the notebook to a script\n",
    "class options():\n",
    "    def __init__(self):\n",
    "        self.debug = \"plot\"\n",
    "        self.result = \"results.txt\"\n",
    "        self.outdir = \"./output_images\"\n",
    "        self.writeimg = False\n",
    "        self.image = \"Athaliana.png\""
   ]
  },
  {
   "cell_type": "code",
   "execution_count": null,
   "metadata": {},
   "outputs": [],
   "source": [
    "# Create input arguments object\n",
    "args = options()"
   ]
  },
  {
   "cell_type": "code",
   "execution_count": null,
   "metadata": {},
   "outputs": [],
   "source": [
    "# Set debug mode\n",
    "pcv.params.debug = args.debug"
   ]
  },
  {
   "cell_type": "code",
   "execution_count": null,
   "metadata": {},
   "outputs": [],
   "source": []
  }
 ],
 "metadata": {
  "kernelspec": {
   "display_name": "Python [conda env:plantcv] *",
   "language": "python",
   "name": "conda-env-plantcv-py"
  },
  "language_info": {
   "codemirror_mode": {
    "name": "ipython",
    "version": 3
   },
   "file_extension": ".py",
   "mimetype": "text/x-python",
   "name": "python",
   "nbconvert_exporter": "python",
   "pygments_lexer": "ipython3",
   "version": "3.7.6"
  }
 },
 "nbformat": 4,
 "nbformat_minor": 4
}
